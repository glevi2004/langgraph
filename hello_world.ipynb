{
 "cells": [
  {
   "cell_type": "code",
   "execution_count": 1,
   "id": "efa05a80",
   "metadata": {},
   "outputs": [],
   "source": [
    "from typing import Dict, TypedDict\n",
    "from langgraph.graph import StateGraph #framework that helps design and manage the flow of tasks in app"
   ]
  },
  {
   "cell_type": "code",
   "execution_count": 2,
   "id": "6ce8faa1-e078-42b8-ba5c-9e3c85fde345",
   "metadata": {},
   "outputs": [],
   "source": [
    "# Create an AgentState - shared data structure that keeps track of info as app runs\n",
    "class AgentState(TypedDict):\n",
    "    message: str\n",
    "\n",
    "def greeding_node(state: AgentState) -> AgentState:\n",
    "    \"\"\"Simple node that adds a greeting message to the state\"\"\"\n",
    "    state['message'] = \"Hey \" + state[\"message\"] + \", how is your day going?\"\n",
    "\n",
    "    return state\n",
    "    "
   ]
  },
  {
   "cell_type": "code",
   "execution_count": null,
   "id": "17167b12-68b2-40cd-ae8f-e68cc52d8f25",
   "metadata": {},
   "outputs": [],
   "source": []
  }
 ],
 "metadata": {
  "kernelspec": {
   "display_name": "venv",
   "language": "python",
   "name": "python3"
  },
  "language_info": {
   "codemirror_mode": {
    "name": "ipython",
    "version": 3
   },
   "file_extension": ".py",
   "mimetype": "text/x-python",
   "name": "python",
   "nbconvert_exporter": "python",
   "pygments_lexer": "ipython3",
   "version": "3.13.3"
  }
 },
 "nbformat": 4,
 "nbformat_minor": 5
}
